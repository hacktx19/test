{
 "cells": [
  {
   "cell_type": "code",
   "execution_count": 83,
   "metadata": {},
   "outputs": [],
   "source": [
    "import requests\n",
    "import json\n",
    "\n",
    "auth_data = {\n",
    "    \"grant_type\"    : \"client_credentials\",\n",
    "    \"client_id\"     : \"be2457a2c0304ea6a0a046edd3df0dce\",\n",
    "    \"client_secret\" : \"e7ffb80965e1bf787992a9c50a8a4d6118545bcd6011b175cf569b889ebb143f\",\n",
    "    \"scope\"         : \"read_product_data\"\n",
    "}\n",
    "\n",
    "session = requests.Session()\n",
    "\n",
    "auth_request = session.post(\"https://idfs.gs.com/as/token.oauth2\", data = auth_data)\n",
    "access_token_dict = json.loads(auth_request.text)\n",
    "access_token = access_token_dict[\"access_token\"]\n",
    "\n",
    "# update session headers with access token\n",
    "session.headers.update({\"Authorization\":\"Bearer \"+ access_token})\n",
    "\n",
    "request_url = \"https://api.marquee.gs.com/v1/data/USCANFPP_MINI/query\"\n",
    "\n",
    "\n",
    "# request_url = \"https://api.marquee.gs.com/v1/data/USCANFPP_MINI/query\"\n",
    "\n",
    "request_query = {\n",
    "                    \"limit\": 50\n",
    "               }\n"
   ]
  },
  {
   "cell_type": "code",
   "execution_count": 84,
   "metadata": {},
   "outputs": [],
   "source": [
    "# request = session.get(url=request_url)\n",
    "request = session.post(url=request_url, json=request_query)\n",
    "results = json.loads(request.text)"
   ]
  },
  {
   "cell_type": "code",
   "execution_count": 85,
   "metadata": {
    "scrolled": true
   },
   "outputs": [
    {
     "name": "stdout",
     "output_type": "stream",
     "text": [
      "{'statusCode': 400, 'reasonPhrase': 'Bad Request', 'title': 'Error', 'messages': ['limit is not supported for bi-temporal datasets', 'Request: 362a9cb0-63253']}\n"
     ]
    }
   ],
   "source": [
    "print(results)"
   ]
  },
  {
   "cell_type": "code",
   "execution_count": 14,
   "metadata": {},
   "outputs": [
    {
     "ename": "KeyError",
     "evalue": "'data'",
     "output_type": "error",
     "traceback": [
      "\u001b[1;31m---------------------------------------------------------------------------\u001b[0m",
      "\u001b[1;31mKeyError\u001b[0m                                  Traceback (most recent call last)",
      "\u001b[1;32m<ipython-input-14-58dd827cdf36>\u001b[0m in \u001b[0;36m<module>\u001b[1;34m\u001b[0m\n\u001b[1;32m----> 1\u001b[1;33m \u001b[0mprint\u001b[0m\u001b[1;33m(\u001b[0m\u001b[0mresults\u001b[0m\u001b[1;33m[\u001b[0m\u001b[1;34m'data'\u001b[0m\u001b[1;33m]\u001b[0m\u001b[1;33m)\u001b[0m\u001b[1;33m\u001b[0m\u001b[1;33m\u001b[0m\u001b[0m\n\u001b[0m",
      "\u001b[1;31mKeyError\u001b[0m: 'data'"
     ]
    }
   ],
   "source": [
    "print(results['data'])"
   ]
  },
  {
   "cell_type": "code",
   "execution_count": 23,
   "metadata": {},
   "outputs": [
    {
     "name": "stdout",
     "output_type": "stream",
     "text": [
      "5943\n"
     ]
    }
   ],
   "source": [
    "print(len(results['data']))"
   ]
  },
  {
   "cell_type": "code",
   "execution_count": 36,
   "metadata": {},
   "outputs": [],
   "source": [
    "request_url = \"https://api.marquee.gs.com/v1/assets/data/query\"\n",
    "\n",
    "\n",
    "\n",
    "request_query = {\n",
    "                    \"where\": {\n",
    "                        \"gsid\": [\"75154\", \"193067\", \"194688\", \"902608\", \"85627\"]\n",
    "                    },\n",
    "                    \"fields\": [\"gsid\", \"ticker\", \"name\"]\n",
    "               }"
   ]
  },
  {
   "cell_type": "code",
   "execution_count": 37,
   "metadata": {},
   "outputs": [],
   "source": [
    "# request = session.get(url=request_url)\n",
    "request = session.post(url=request_url, json=request_query)\n",
    "results = json.loads(request.text)"
   ]
  },
  {
   "cell_type": "code",
   "execution_count": 38,
   "metadata": {},
   "outputs": [
    {
     "name": "stdout",
     "output_type": "stream",
     "text": [
      "{'totalResults': 12, 'results': [{'name': 'Lumber Liquidators Holdings', 'gsid': '193067', 'ticker': 'LL'}, {'name': 'Sonic Automotive Inc-Class A', 'gsid': '85627', 'ticker': 'SAH'}, {'name': 'Ulta Beauty Inc', 'gsid': '194688', 'ticker': 'ULTA'}, {'name': 'Ulta Beauty Inc', 'gsid': '194688', 'ticker': 'ULTA'}, {'name': 'Carnival Corp', 'gsid': '75154', 'ticker': 'CCL'}, {'name': 'Ulta Beauty Inc', 'gsid': '194688', 'ticker': 'ULTA'}, {'name': 'Ulta Beauty Inc', 'gsid': '194688', 'ticker': 'ULTA'}, {'name': 'Check Point Software Tech', 'gsid': '902608', 'ticker': 'CHKP'}, {'name': 'Carnival Corp', 'gsid': '75154', 'ticker': 'CCL'}, {'name': 'Check Point Software Tech', 'gsid': '902608', 'ticker': 'CHKP'}]}\n"
     ]
    }
   ],
   "source": [
    "print(results)"
   ]
  },
  {
   "cell_type": "code",
   "execution_count": null,
   "metadata": {},
   "outputs": [],
   "source": []
  }
 ],
 "metadata": {
  "kernelspec": {
   "display_name": "Python 3",
   "language": "python",
   "name": "python3"
  },
  "language_info": {
   "codemirror_mode": {
    "name": "ipython",
    "version": 3
   },
   "file_extension": ".py",
   "mimetype": "text/x-python",
   "name": "python",
   "nbconvert_exporter": "python",
   "pygments_lexer": "ipython3",
   "version": "3.7.4"
  }
 },
 "nbformat": 4,
 "nbformat_minor": 2
}
